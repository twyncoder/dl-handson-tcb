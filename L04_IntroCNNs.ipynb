{
 "cells": [
  {
   "cell_type": "markdown",
   "metadata": {},
   "source": [
    "<table align=\"left\">\n",
    "  <td>\n",
    "    <a href=\"https://colab.research.google.com/github/twyncoder/dl-handson-tcb/blob/master/L04_IntroCNNs.ipynb\" target=\"_parent\"><img src=\"https://colab.research.google.com/assets/colab-badge.svg\" alt=\"Open In Colab\"/></a>\n",
    "  </td>\n",
    "</table>"
   ]
  },
  {
   "cell_type": "markdown",
   "metadata": {},
   "source": [
    "# Redes de Aprendizaje Profundo básicas con Keras y Tensorflow.\n",
    "## *Convolutional Deep Neural Networks (CNN) para clasificación multi-clase*"
   ]
  },
  {
   "cell_type": "markdown",
   "metadata": {},
   "source": [
    "## 0. Preparación del entorno y comprobación de requisitos"
   ]
  },
  {
   "cell_type": "code",
   "execution_count": 1,
   "metadata": {},
   "outputs": [],
   "source": [
    "# Python ≥3.5 is required\n",
    "import sys\n",
    "assert sys.version_info >= (3, 5)\n",
    "\n",
    "# Is this notebook running on Colab or Kaggle?\n",
    "IS_COLAB = \"google.colab\" in sys.modules\n",
    "IS_KAGGLE = \"kaggle_secrets\" in sys.modules\n",
    "\n",
    "# Scikit-Learn ≥0.20 is required\n",
    "import sklearn\n",
    "assert sklearn.__version__ >= \"0.20\"\n",
    "\n",
    "# TensorFlow ≥2.0 is required\n",
    "import tensorflow as tf\n",
    "from tensorflow import keras\n",
    "\n",
    "assert tf.__version__ >= \"2.0\"\n",
    "\n",
    "# Common imports\n",
    "import numpy as np\n",
    "import os\n",
    "\n",
    "# to make this notebook's output stable across runs\n",
    "np.random.seed(42)\n",
    "tf.random.set_seed(42)\n",
    "\n",
    "# To plot pretty figures\n",
    "%matplotlib inline\n",
    "import matplotlib as mpl\n",
    "import matplotlib.pyplot as plt\n",
    "mpl.rc('axes', labelsize=14)\n",
    "mpl.rc('xtick', labelsize=12)\n",
    "mpl.rc('ytick', labelsize=12)\n",
    "\n",
    "# Where to save the figures\n",
    "PROJECT_ROOT_DIR = \".\"\n",
    "SUBFOLDER = \"HandsOn_04\"\n",
    "IMAGES_PATH = os.path.join(PROJECT_ROOT_DIR, \"images\", SUBFOLDER)\n",
    "os.makedirs(IMAGES_PATH, exist_ok=True)\n",
    "\n",
    "def save_fig(fig_id, tight_layout=True, fig_extension=\"png\", resolution=300):\n",
    "    path = os.path.join(IMAGES_PATH, fig_id + \".\" + fig_extension)\n",
    "    print(\"Saving figure\", fig_id)\n",
    "    if tight_layout:\n",
    "        plt.tight_layout()\n",
    "    plt.savefig(path, format=fig_extension, dpi=resolution)"
   ]
  },
  {
   "cell_type": "markdown",
   "metadata": {},
   "source": [
    "### Información de versiones"
   ]
  },
  {
   "cell_type": "code",
   "execution_count": 2,
   "metadata": {},
   "outputs": [
    {
     "name": "stdout",
     "output_type": "stream",
     "text": [
      "2.4.2\n",
      "2.4.0\n"
     ]
    }
   ],
   "source": [
    "print(tf.__version__)\n",
    "print(keras.__version__)"
   ]
  },
  {
   "cell_type": "markdown",
   "metadata": {},
   "source": [
    "### Comprobar si disponemos de una GPU"
   ]
  },
  {
   "cell_type": "code",
   "execution_count": 3,
   "metadata": {},
   "outputs": [
    {
     "data": {
      "text/plain": [
       "[PhysicalDevice(name='/physical_device:GPU:0', device_type='GPU')]"
      ]
     },
     "execution_count": 3,
     "metadata": {},
     "output_type": "execute_result"
    }
   ],
   "source": [
    "tf.config.list_physical_devices('GPU')"
   ]
  },
  {
   "cell_type": "markdown",
   "metadata": {},
   "source": [
    "## 1. Dataset"
   ]
  },
  {
   "cell_type": "code",
   "execution_count": 4,
   "metadata": {},
   "outputs": [],
   "source": [
    "from sklearn.model_selection import train_test_split\n",
    "(X_train_full, y_train_full), (X_test, y_test) = keras.datasets.fashion_mnist.load_data()\n",
    "X_train, X_valid, y_train, y_valid = train_test_split(X_train_full,y_train_full,\n",
    "                                                     train_size=55000,shuffle=True)"
   ]
  },
  {
   "cell_type": "markdown",
   "metadata": {},
   "source": [
    "### Estandarización de las entradas"
   ]
  },
  {
   "cell_type": "code",
   "execution_count": 5,
   "metadata": {},
   "outputs": [],
   "source": [
    "X_mean = X_train.mean(axis=0, keepdims=True)\n",
    "X_std = X_train.std(axis=0, keepdims=True) + 1e-7\n",
    "X_train = (X_train - X_mean) / X_std\n",
    "X_valid = (X_valid - X_mean) / X_std\n",
    "X_test = (X_test - X_mean) / X_std"
   ]
  },
  {
   "cell_type": "markdown",
   "metadata": {},
   "source": [
    "**¡AHORA TÚ!**\n",
    "- Observa las dimensiones de `X_mean` y `X_std` y explica cómo se está haciendo la estandarización de los datos de entrada a la red.\n",
    "- Observa que `X_mean` y `X_shape` se calculan sobre el set de entrenamiento, pero después se aplican también para pseudo estandarizar el set de validación y el set de test, ¿puedes explicar por qué?."
   ]
  },
  {
   "cell_type": "markdown",
   "metadata": {},
   "source": [
    "### Ampliación de las dimensiones de entrada\n",
    "- La entrada a nuestras Redes Neuronales Convolucionales (CNNs) será una imagen de 28x28 píxeles, con un canal de información. Debemos añadir una dimensión a nuestras entradas.\n",
    "- Comprueba como quedan las dimensiones de los arrays n-dimensionales de _numpy_ con las muestras (entrenamiento, validación y test) después de ejecutar la siguiente celda. Como en ocasiones anteriores, puedes imprimir _shape_.\n",
    "    - Llamaremos a las dimensiones `(batch_size, height, width, channels)`."
   ]
  },
  {
   "cell_type": "code",
   "execution_count": 8,
   "metadata": {},
   "outputs": [],
   "source": [
    "X_train = X_train[..., np.newaxis]\n",
    "X_valid = X_valid[..., np.newaxis]\n",
    "X_test = X_test[..., np.newaxis]"
   ]
  },
  {
   "cell_type": "markdown",
   "metadata": {},
   "source": [
    "## 2. Entrenamiento"
   ]
  },
  {
   "cell_type": "markdown",
   "metadata": {},
   "source": [
    "### Modelo 'base' de red neuronal"
   ]
  },
  {
   "cell_type": "code",
   "execution_count": 10,
   "metadata": {},
   "outputs": [],
   "source": [
    "model = keras.models.Sequential()\n",
    "model.add(keras.layers.Conv2D(16, kernel_size=(3, 3),\n",
    "                 activation='relu', padding='same',\n",
    "                 kernel_initializer='he_normal',\n",
    "                 input_shape=(28, 28, 1)))\n",
    "model.add(keras.layers.MaxPooling2D((2, 2)))\n",
    "model.add(keras.layers.Conv2D(32, kernel_size=(3, 3), \n",
    "                 activation='relu',  padding='same'))\n",
    "model.add(keras.layers.MaxPooling2D(pool_size=(2, 2)))\n",
    "model.add(keras.layers.Flatten())\n",
    "model.add(keras.layers.Dense(32, activation='relu'))\n",
    "model.add(keras.layers.Dense(10, activation='softmax'))"
   ]
  },
  {
   "cell_type": "markdown",
   "metadata": {},
   "source": [
    "**¡AHORA TÚ!**\n",
    "- Obtén un `summary()` (opcionalmente también un `plot_model()`) de la red anterior y contesta a las siguientes cuestiones:\n",
    " - Asegúrate de entender cómo disminuye el tamaño de las capas en `height` y `width` desde 28x28 px a la entrada hasta 7x7 después de la última capa de _pooling_.\n",
    " - Busca información sobre `keras.layers.Conv2D()` y averigua qué quiere decir `padding='same'`. ¿Qué otra opción existe para este parámetro y qué implicaciones tiene usarla? Puedes probar a cambiarlo y ver cómo cambian los tamaños de las capas.\n",
    " - Describe la red anterior, ¿cuántos _feature maps_ o `channels` tiene la primera capa? ¿de qué tamaño con los _campos receptivos_ o `kernels` de convolución?\n",
    " - ¿Cuántos parámetros entrenables tiene la red? Compara esta cifra con el número de parámetros del modelo 'base' de red neuronal _fully connected_ del cuaderno L03."
   ]
  },
  {
   "cell_type": "markdown",
   "metadata": {},
   "source": [
    "**¡AHORA TÚ!**\n",
    "- Entrena la red neuronal durante 15 o 20 epochs con un optimizador `adam`\n",
    "- Muestra en una gráfica la evolución del entrenamiento.\n",
    "- Compara los resultados de `accuracy` y `val_accuracy` con los obtenidos con el modelo 'base' de red neuronal _fully connected_ del cuaderno L03."
   ]
  },
  {
   "cell_type": "markdown",
   "metadata": {},
   "source": [
    "### Batch Normalization"
   ]
  },
  {
   "cell_type": "markdown",
   "metadata": {},
   "source": [
    "**¡AHORA TÚ!**\n",
    "- ¿Se produce _overfitting_? Puedes probar a introducir capas de tipo `Batch Normalization` antes de las capas de _pooling_. Te anticipamos que no mejorará mucho en este caso, pero al menos habrás aprendido a utilizar _batch normalization_ en redes CNN :-)\n"
   ]
  },
  {
   "cell_type": "markdown",
   "metadata": {},
   "source": [
    "### L1 and L2 Regularization\n",
    "**¡AHORA TÚ!**\n",
    "- También puedes probar a introducir regularización L2."
   ]
  },
  {
   "cell_type": "markdown",
   "metadata": {},
   "source": [
    "### Dropout\n",
    "**¡AHORA TÚ!**\n",
    " - Añade capas de dropout después de las capas de _pooling_"
   ]
  },
  {
   "cell_type": "markdown",
   "metadata": {},
   "source": [
    "### Scheduled learning rate\n",
    "**¡AHORA TÚ!**\n",
    " - Introduce variación dinámica del _learning rate_ con alguna de las soluciones aprendidas"
   ]
  },
  {
   "cell_type": "markdown",
   "metadata": {},
   "source": [
    "### Aumentando la profundidad de la red"
   ]
  },
  {
   "cell_type": "markdown",
   "metadata": {},
   "source": [
    "**¡AHORA TÚ!**\n",
    "- Lo que tenemos hasta ahora no es una red suficientemente _\"deep\"_. Aumenta el número de capas convolucionales.   \n",
    " - Deberías aumentar el número de channels en las capas más profundas de la red, ¿sabes contestar por qué?.\n",
    " - Observa que también puedes aumentar el número de neuronas en la capa _hidden_ de perceptrón multicapa (MLP) que hay al final de la red.\n",
    " - Controla el número de parámetros entrenables y número de capas en un tamaño manejable para el equipo que estás utilizando.\n",
    "- Algunas recomendaciones a partir de aquí:\n",
    " - No utilices regularización L2 en este experimento, a fin de que el entrenamiento no sea demasiado lento.\n",
    " - No obstante, utiliza _Batch normalization_ y _dropout_.\n",
    " - Añade además callbacks para variar el _learning rate_ dinámicamente \n",
    " - Recuerda que puedes utilizar _early stopping_ para quedarte con la mejor configuración de pesos de todos los epochs de entrenamiento. Ajusta el parámetro _patience_ dependiendo de la velocidad de tu equipo.\n",
    "- A ver si puedes obtener un resultado cercano a `val_accuracy` en torno a 93%... ¡o mejor aún!"
   ]
  },
  {
   "cell_type": "markdown",
   "metadata": {},
   "source": [
    "## 3. Salvar modelo\n",
    "**¡AHORA TÚ!**\n",
    "- Salva el modelo entrenado, por si quisieras utilizarlo más adelante"
   ]
  },
  {
   "cell_type": "markdown",
   "metadata": {},
   "source": [
    "## 4. Test\n",
    "**¡AHORA TÚ!**\n",
    "- Carga el modelo salvado anteriormente y evalúalo (usando `evaluate()`), sobre las muestras reservadas para test. \n",
    "- Utiliza a continuación el modelo para generar predicciones sobre todo el subconjunto de entrenamiento."
   ]
  },
  {
   "cell_type": "markdown",
   "metadata": {},
   "source": [
    "### Matriz de confusión\n",
    "**¡AHORA TÚ!**\n",
    "- Utiliza las predicciones anteriores para generar un matriz de confusión normalizada."
   ]
  },
  {
   "cell_type": "markdown",
   "metadata": {},
   "source": [
    "### Métricas de rendimiento\n",
    "**¡AHORA TÚ!**\n",
    "- Genera ahora una matriz de confusión sin normalizar.\n",
    "- Calcula la métrica F1-score para cada clase y su valor medio.\n",
    "- Compara los resultados obtenidos con aquellos que lograste en el cuaderno L03."
   ]
  },
  {
   "cell_type": "markdown",
   "metadata": {},
   "source": [
    "## Ampliación"
   ]
  },
  {
   "cell_type": "markdown",
   "metadata": {},
   "source": [
    "- Blog towardsdatascience: The 4 Convolutional Neural Network Models That Can Classify Your Fashion Images\n",
    "\n",
    "https://towardsdatascience.com/the-4-convolutional-neural-network-models-that-can-classify-your-fashion-images-9fe7f3e5399d\n",
    "- Fashion MNIST benchmark\n",
    "\n",
    "https://paperswithcode.com/sota/image-classification-on-fashion-mnist"
   ]
  }
 ],
 "metadata": {
  "kernelspec": {
   "display_name": "Python 3 (ipykernel)",
   "language": "python",
   "name": "python3"
  },
  "language_info": {
   "codemirror_mode": {
    "name": "ipython",
    "version": 3
   },
   "file_extension": ".py",
   "mimetype": "text/x-python",
   "name": "python",
   "nbconvert_exporter": "python",
   "pygments_lexer": "ipython3",
   "version": "3.7.10"
  },
  "nav_menu": {},
  "toc": {
   "navigate_menu": true,
   "number_sections": true,
   "sideBar": true,
   "threshold": 6,
   "toc_cell": false,
   "toc_section_display": "block",
   "toc_window_display": false
  }
 },
 "nbformat": 4,
 "nbformat_minor": 4
}
